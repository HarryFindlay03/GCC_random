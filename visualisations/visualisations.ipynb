{
 "cells": [
  {
   "cell_type": "code",
   "execution_count": null,
   "metadata": {},
   "outputs": [],
   "source": [
    "import matplotlib.pyplot as plt\n",
    "import pandas as pd"
   ]
  },
  {
   "cell_type": "code",
   "execution_count": null,
   "metadata": {},
   "outputs": [],
   "source": [
    "params = ['2mm', 'correlation']\n",
    "\n",
    "plt.figure(figsize=(20, 6))\n",
    "pos = 1\n",
    "\n",
    "for param in params:\n",
    "    plt.subplot(1, 2, pos)\n",
    "    pos += 1\n",
    "\n",
    "    df = pd.read_csv(f\"../data/random_optimizer_output/{param}_logging.txt\")\n",
    "\n",
    "    plt.scatter(df['program_number'], df['exec_time'])\n",
    "    plt.xticks(df['program_number'])\n",
    "    plt.xlabel('Program')\n",
    "    plt.ylabel('Execution time')\n",
    "    plt.title(f'PolyBench-C {param} random optimisations - 10 optimisations')\n",
    "    plt.grid(True)\n",
    "\n",
    "plt.show()"
   ]
  }
 ],
 "metadata": {
  "kernelspec": {
   "display_name": ".env",
   "language": "python",
   "name": "python3"
  },
  "language_info": {
   "codemirror_mode": {
    "name": "ipython",
    "version": 3
   },
   "file_extension": ".py",
   "mimetype": "text/x-python",
   "name": "python",
   "nbconvert_exporter": "python",
   "pygments_lexer": "ipython3",
   "version": "3.11.7"
  }
 },
 "nbformat": 4,
 "nbformat_minor": 2
}
